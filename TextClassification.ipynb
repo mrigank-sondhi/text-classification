{
  "cells": [
    {
      "cell_type": "markdown",
      "source": [
        "Dataset: http://archive.ics.uci.edu/ml/datasets/Twenty+Newsgroups"
      ],
      "metadata": {
        "id": "yRSqp6uOikGe"
      },
      "id": "yRSqp6uOikGe"
    },
    {
      "cell_type": "code",
      "execution_count": null,
      "id": "ae5e6929",
      "metadata": {
        "id": "ae5e6929"
      },
      "outputs": [],
      "source": [
        "from os import listdir\n",
        "from os.path import isfile, join\n",
        "import string\n",
        "\n",
        "from sklearn.model_selection import train_test_split\n",
        "import numpy as np\n",
        "import pandas as pd\n",
        "import matplotlib.pyplot as plt"
      ]
    },
    {
      "cell_type": "code",
      "execution_count": null,
      "id": "cb61521c",
      "metadata": {
        "id": "cb61521c"
      },
      "outputs": [],
      "source": [
        "main_path = '20_newsgroups'\n",
        "folders = listdir(main_path)\n",
        "\n",
        "documents = []\n",
        "Y = []\n",
        "\n",
        "for folder in folders:\n",
        "    folder_path = join(main_path, folder)\n",
        "    total_files_in_folder = len(listdir(folder_path))\n",
        "    Y += ([folder] * total_files_in_folder)\n",
        "    for document in listdir(folder_path):\n",
        "        documents.append(join(folder_path, document))\n",
        "        \n",
        "documents = np.array(documents)\n",
        "Y = np.array(Y)"
      ]
    },
    {
      "cell_type": "code",
      "execution_count": null,
      "id": "7565ba55",
      "metadata": {
        "id": "7565ba55"
      },
      "outputs": [],
      "source": [
        "document_train, document_test, Y_train, Y_test = np.array([]), np.array([]), np.array([]), np.array([])\n",
        "for folder in folders:  \n",
        "    a, b, c, d = train_test_split(documents[Y == folder], Y[Y == folder], random_state = 0,\n",
        "                                  test_size = 0.25)\n",
        "    document_train = np.append(document_train, a) \n",
        "    document_test = np.append(document_test, b)\n",
        "    Y_train = np.append(Y_train, c)\n",
        "    Y_test = np.append(Y_test, d)"
      ]
    },
    {
      "cell_type": "code",
      "execution_count": null,
      "id": "bbfd5984",
      "metadata": {
        "id": "bbfd5984"
      },
      "outputs": [],
      "source": [
        "#function to preprocess the words list to remove punctuations\n",
        "def preprocess(words_list):\n",
        "    #we create an empty translation table where every character in the first argument is mapped to\n",
        "    #every character in the second argument and every character in the third argument is mapped to\n",
        "    #none  \n",
        "    \n",
        "    #\" \\t \" in a word becomes none\n",
        "    translation_table = str.maketrans('', '', '\\t')\n",
        "    words_list = [word.translate(translation_table) for word in words_list]\n",
        "    \n",
        "    #\" ' \" appears in a lot of words and would change the meaning of the words if removed,\n",
        "    #hence it is removed from the list of punctuations we plan to remove from the words\n",
        "    punctuations = (string.punctuation).replace(\"'\", \"\") \n",
        "    #all punctuation characters become none \n",
        "    translation_table = str.maketrans('', '', punctuations)\n",
        "    words_list = [word.translate(translation_table) for word in words_list]\n",
        "    \n",
        "    #removing blank strings\n",
        "    words_list = [word for word in words_list if word]\n",
        "    \n",
        "    #some words are quoted in the documents and as we have not removed \" ' \" to maintain \n",
        "    #the meaning of the words, we try to unquote such words below\n",
        "    for i in range(len(words_list)):\n",
        "        if ((words_list[i][0] == \"'\") and (words_list[i][-1] == \"'\")):\n",
        "            words_list[i] = words_list[i][1:-1]\n",
        "        elif(words_list[i][0] == \"'\"):\n",
        "            words_list[i] = words_list[i][1:]\n",
        "        \n",
        "    #we will also remove just numeric strings as they do not have any significant meaning in \n",
        "    #text classification\n",
        "    words_list = [word for word in words_list if not word.isdigit()]\n",
        "    \n",
        "    #removing blank strings\n",
        "    words_list = [word for word in words_list if word]\n",
        "    \n",
        "    #making all words lower-case\n",
        "    words_list = [word.lower() for word in words_list]\n",
        "    \n",
        "    #removing words with two or less characters\n",
        "    words_list = [word for word in words_list if (len(word) > 2)]\n",
        "    \n",
        "    return words_list"
      ]
    },
    {
      "cell_type": "code",
      "execution_count": null,
      "id": "0eae0b91",
      "metadata": {
        "id": "0eae0b91"
      },
      "outputs": [],
      "source": [
        "#function to remove stopwords\n",
        "stopwords = ['a', 'about', 'above', 'after', 'again', 'against', 'all', 'am', 'an', 'and', 'any',\n",
        "             'are', \"aren't\", 'as', 'at', 'be', 'because', 'been', 'before', 'being', 'below', \n",
        "             'between', 'both', 'but', 'by', 'can', \"can't\", 'cannot', 'could', \"couldn't\", 'did',\n",
        "             \"didn't\", 'do', 'does', \"doesn't\", 'doing', \"don't\", 'down', 'during', 'each', 'few',\n",
        "             'for', 'from', 'further', 'had', \"hadn't\", 'has', \"hasn't\", 'have', \"haven't\", \n",
        "             'having', 'he', \"he'd\", \"he'll\", \"he's\", 'her', 'here', \"here's\", 'hers', 'herself',\n",
        "             'him', 'himself', 'his', 'how', \"how's\", 'i', \"i'd\", \"i'll\", \"i'm\", \"i've\", 'if', \n",
        "             'in', 'into', 'is', \"isn't\", 'it', \"it's\", 'its', 'itself', \"let's\", 'me', 'more', \n",
        "             'most', \"mustn't\", 'my', 'myself', 'no', 'nor', 'not', 'of', 'off', 'on', 'once', \n",
        "             'only', 'or', 'other', 'ought', 'our', 'ours' 'ourselves', 'out', 'over', 'own',\n",
        "             'same', \"shan't\", 'she', \"she'd\", \"she'll\", \"she's\", 'should', \"shouldn't\", 'so', \n",
        "             'some', 'such', 'than', 'that',\"that's\", 'the', 'their', 'theirs', 'them', \n",
        "             'themselves', 'then', 'there', \"there's\", 'these', 'they', \"they'd\", \"they'll\", \n",
        "             \"they're\", \"they've\", 'this', 'those', 'through', 'to', 'too', 'under', 'until', \n",
        "             'up', 'very', 'was', \"wasn't\", 'we', \"we'd\", \"we'll\", \"we're\", \"we've\", 'were', \n",
        "             \"weren't\", 'what', \"what's\", 'when', \"when's\", 'where', \"where's\", 'which', 'while',\n",
        "             'who', \"who's\", 'whom', 'why', \"why's\",'will', 'with', \"won't\", 'would', \"wouldn't\",\n",
        "             'you', \"you'd\", \"you'll\", \"you're\", \"you've\", 'your', 'yours', 'yourself', \n",
        "             'yourselves', 'one', 'two', 'three', 'four', 'five', 'six', 'seven', 'eight', 'nine',\n",
        "             'ten', 'hundred', 'thousand', '1st', '2nd', '3rd', '4th', '5th', '6th', '7th', '8th',\n",
        "             '9th', '10th']\n",
        "\n",
        "def remove_stopwords(words_list):\n",
        "    words_list = [word for word in words_list if not word in stopwords]\n",
        "    return words_list"
      ]
    },
    {
      "cell_type": "code",
      "execution_count": null,
      "id": "e80bd15c",
      "metadata": {
        "id": "e80bd15c"
      },
      "outputs": [],
      "source": [
        "#function to convert a single line into a list of words\n",
        "def tokenize_line(line):\n",
        "    words_list = line[0:].strip().split(\" \")\n",
        "    words_list = preprocess(words_list)\n",
        "    words_list = remove_stopwords(words_list)\n",
        "    \n",
        "    return words_list"
      ]
    },
    {
      "cell_type": "code",
      "execution_count": null,
      "id": "51c51381",
      "metadata": {
        "id": "51c51381"
      },
      "outputs": [],
      "source": [
        "#function to remove metadata from the whole document\n",
        "def remove_metadata(lines):\n",
        "    for i in range(len(lines)):\n",
        "        if(lines[i] == '\\n'):\n",
        "            temp = i + 1\n",
        "            break\n",
        "    lines = lines[temp:]\n",
        "    return lines"
      ]
    },
    {
      "cell_type": "code",
      "execution_count": null,
      "id": "69173b39",
      "metadata": {
        "id": "69173b39"
      },
      "outputs": [],
      "source": [
        "#function to convert a document into a list of words\n",
        "def tokenize_document(path):\n",
        "    #load the document as a list of lines\n",
        "    f = open(path, 'r')\n",
        "    document_lines = f.readlines()\n",
        "    \n",
        "    #removing the metadata at the top of each document\n",
        "    document_lines = remove_metadata(document_lines)\n",
        "    \n",
        "    document_words = []\n",
        "    \n",
        "    #tokenize all the lines of the document\n",
        "    for line in document_lines:\n",
        "        document_words.append(tokenize_line(line))\n",
        "\n",
        "    return document_words"
      ]
    },
    {
      "cell_type": "code",
      "execution_count": null,
      "id": "e903496b",
      "metadata": {
        "id": "e903496b"
      },
      "outputs": [],
      "source": [
        "#function to flatten a 2D array to a 1D array\n",
        "def flatten(words_list):\n",
        "    words_list_flattened = []\n",
        "    for line in words_list:\n",
        "        for word in line:\n",
        "            words_list_flattened.append(word)\n",
        "    return words_list_flattened"
      ]
    },
    {
      "cell_type": "code",
      "execution_count": null,
      "id": "67e50717",
      "metadata": {
        "id": "67e50717"
      },
      "outputs": [],
      "source": [
        "training_document_words_list = []\n",
        "for document in document_train:\n",
        "    training_document_words_list.append(flatten(tokenize_document(document)))"
      ]
    },
    {
      "cell_type": "code",
      "execution_count": null,
      "id": "d0b1bed6",
      "metadata": {
        "id": "d0b1bed6"
      },
      "outputs": [],
      "source": [
        "all_words_list = np.array(flatten(training_document_words_list))"
      ]
    },
    {
      "cell_type": "code",
      "execution_count": null,
      "id": "29b164ad",
      "metadata": {
        "id": "29b164ad",
        "outputId": "87371401-9100-45de-f1be-9418f8f90500"
      },
      "outputs": [
        {
          "data": {
            "text/plain": [
              "1917496"
            ]
          },
          "execution_count": 12,
          "metadata": {},
          "output_type": "execute_result"
        }
      ],
      "source": [
        "len(all_words_list)"
      ]
    },
    {
      "cell_type": "code",
      "execution_count": null,
      "id": "80c038b3",
      "metadata": {
        "id": "80c038b3"
      },
      "outputs": [],
      "source": [
        "#finding frequencies of unique words and sorting them in decreasing order\n",
        "unique_words, frequency = np.unique(all_words_list, return_counts = True)\n",
        "unique_words_sorted, frequency_sorted = (list(i) for i in zip(*(sorted(zip(unique_words, frequency), \n",
        "                                        key = lambda awd:(awd[1], awd[0]), reverse=True))))"
      ]
    },
    {
      "cell_type": "code",
      "execution_count": null,
      "id": "3c6d4e1e",
      "metadata": {
        "id": "3c6d4e1e"
      },
      "outputs": [],
      "source": [
        "#making variables for frequency of words and number of words with that frequency\n",
        "number_of_words = []\n",
        "frequency_of_words = []\n",
        "for specific_frequency in sorted(np.unique(frequency_sorted), reverse=True):\n",
        "    frequency_of_words.append(specific_frequency)\n",
        "    number_of_words.append(frequency_sorted.count(specific_frequency))"
      ]
    },
    {
      "cell_type": "code",
      "execution_count": null,
      "id": "3811c447",
      "metadata": {
        "id": "3811c447",
        "outputId": "b486a6db-628d-4bfd-d581-8e1e50488c2a"
      },
      "outputs": [
        {
          "data": {
            "image/png": "[encoded data removed]",
            "text/plain": [
              "<Figure size 432x288 with 1 Axes>"
            ]
          },
          "metadata": {
            "needs_background": "light"
          },
          "output_type": "display_data"
        }
      ],
      "source": [
        "#plotting graph for frequency vs number of words with that frequency\n",
        "x = number_of_words\n",
        "y = frequency_of_words\n",
        "plt.xlim(0, 100)\n",
        "plt.xlabel('Number of Words')\n",
        "plt.ylabel('Frequency')\n",
        "plt.plot(x, y)\n",
        "plt.grid()\n",
        "plt.show()"
      ]
    },
    {
      "cell_type": "code",
      "execution_count": null,
      "id": "abb9f47b",
      "metadata": {
        "id": "abb9f47b"
      },
      "outputs": [],
      "source": [
        "#using first 5000 words as features\n",
        "features = unique_words_sorted[0:5000]"
      ]
    },
    {
      "cell_type": "markdown",
      "id": "96f1aa11",
      "metadata": {
        "id": "96f1aa11"
      },
      "source": [
        "# Making X_train and Y_train"
      ]
    },
    {
      "cell_type": "code",
      "execution_count": null,
      "id": "bc7869fc",
      "metadata": {
        "id": "bc7869fc"
      },
      "outputs": [],
      "source": [
        "#making the final X_train 2d array\n",
        "\n",
        "#making a dictionary with count of unique words for every document\n",
        "X_train_dictionary = {}\n",
        "document_number = 1\n",
        "for document_words in training_document_words_list:\n",
        "    document_words = np.asarray(document_words)\n",
        "    unique_words, frequency = np.unique(document_words, return_counts = True)\n",
        "    X_train_dictionary[document_number] = {}\n",
        "    for i in range(len(unique_words)):\n",
        "        X_train_dictionary[document_number][unique_words[i]] = frequency[i]\n",
        "    document_number = document_number + 1\n",
        "    \n",
        "#converting dictionary to X_train\n",
        "X_train = []\n",
        "for document_number in X_train_dictionary.keys():\n",
        "    X_train_row = []\n",
        "    for word in features:\n",
        "        if(word in X_train_dictionary[document_number].keys()):\n",
        "            X_train_row.append(X_train_dictionary[document_number][word]) \n",
        "        else:\n",
        "            X_train_row.append(0)\n",
        "    X_train.append(X_train_row)\n",
        "    \n",
        "X_train = np.asarray(X_train)\n",
        "Y_train = np.asarray(Y_train)"
      ]
    },
    {
      "cell_type": "markdown",
      "id": "47c430ef",
      "metadata": {
        "id": "47c430ef"
      },
      "source": [
        "# Making X_test and Y_test"
      ]
    },
    {
      "cell_type": "code",
      "execution_count": null,
      "id": "bd3ab34c",
      "metadata": {
        "id": "bd3ab34c"
      },
      "outputs": [],
      "source": [
        "#making the list of words for every testing document\n",
        "testing_document_words_list = []\n",
        "for document in document_test:\n",
        "    testing_document_words_list.append(flatten(tokenize_document(document)))"
      ]
    },
    {
      "cell_type": "code",
      "execution_count": null,
      "id": "905bbede",
      "metadata": {
        "id": "905bbede"
      },
      "outputs": [],
      "source": [
        "#making the final X_test 2d array\n",
        "\n",
        "#making a dictionary with count of unique words for every document\n",
        "X_test_dictionary = {}\n",
        "document_number = 1\n",
        "for document_words in testing_document_words_list:\n",
        "    document_words = np.asarray(document_words)\n",
        "    unique_words, frequency = np.unique(document_words, return_counts = True)\n",
        "    X_test_dictionary[document_number] = {}\n",
        "    for i in range(len(unique_words)):\n",
        "        X_test_dictionary[document_number][unique_words[i]] = frequency[i]\n",
        "    document_number = document_number + 1\n",
        "    \n",
        "#converting dictionary to X_test\n",
        "X_test = []\n",
        "for document_number in X_test_dictionary.keys():\n",
        "    X_test_row = []\n",
        "    for word in features:\n",
        "        if(word in X_test_dictionary[document_number].keys()):\n",
        "            X_test_row.append(X_test_dictionary[document_number][word]) \n",
        "        else:\n",
        "            X_test_row.append(0)\n",
        "    X_test.append(X_test_row)\n",
        "    \n",
        "X_test = np.asarray(X_test)\n",
        "Y_test = np.asarray(Y_test)"
      ]
    },
    {
      "cell_type": "markdown",
      "id": "5895cf34",
      "metadata": {
        "id": "5895cf34"
      },
      "source": [
        "# Text Classification using Multinomial Naive Bayes from SKLearn"
      ]
    },
    {
      "cell_type": "code",
      "execution_count": null,
      "id": "e51bd31d",
      "metadata": {
        "id": "e51bd31d"
      },
      "outputs": [],
      "source": [
        "from sklearn.naive_bayes import MultinomialNB\n",
        "from sklearn.metrics import classification_report, confusion_matrix, accuracy_score"
      ]
    },
    {
      "cell_type": "code",
      "execution_count": null,
      "id": "55ced338",
      "metadata": {
        "id": "55ced338",
        "outputId": "5b58b6b5-060e-45ce-8dac-ab663ed0786e"
      },
      "outputs": [
        {
          "data": {
            "text/plain": [
              "MultinomialNB()"
            ]
          },
          "execution_count": 21,
          "metadata": {},
          "output_type": "execute_result"
        }
      ],
      "source": [
        "classifier = MultinomialNB()\n",
        "classifier.fit(X_train, Y_train)"
      ]
    },
    {
      "cell_type": "markdown",
      "id": "217556d4",
      "metadata": {
        "id": "217556d4"
      },
      "source": [
        "#### Testing Metrics"
      ]
    },
    {
      "cell_type": "code",
      "execution_count": null,
      "id": "4608eca5",
      "metadata": {
        "id": "4608eca5"
      },
      "outputs": [],
      "source": [
        "Y_test_preds = classifier.predict(X_test)"
      ]
    },
    {
      "cell_type": "code",
      "execution_count": null,
      "id": "6f981056",
      "metadata": {
        "id": "6f981056",
        "outputId": "bed4e193-7575-4184-d7b4-5a23dbed67f5"
      },
      "outputs": [
        {
          "name": "stdout",
          "output_type": "stream",
          "text": [
            "Classification Report:\n",
            "                           precision    recall  f1-score   support\n",
            "\n",
            "             alt.atheism       0.61      0.74      0.67       250\n",
            "           comp.graphics       0.63      0.64      0.64       250\n",
            " comp.os.ms-windows.misc       0.68      0.70      0.69       250\n",
            "comp.sys.ibm.pc.hardware       0.66      0.66      0.66       250\n",
            "   comp.sys.mac.hardware       0.72      0.78      0.75       250\n",
            "          comp.windows.x       0.79      0.75      0.77       250\n",
            "            misc.forsale       0.79      0.74      0.76       250\n",
            "               rec.autos       0.82      0.88      0.85       250\n",
            "         rec.motorcycles       0.83      0.89      0.86       250\n",
            "      rec.sport.baseball       0.90      0.91      0.91       250\n",
            "        rec.sport.hockey       0.94      0.93      0.93       250\n",
            "               sci.crypt       0.88      0.88      0.88       250\n",
            "         sci.electronics       0.77      0.68      0.72       250\n",
            "                 sci.med       0.91      0.82      0.87       250\n",
            "               sci.space       0.85      0.82      0.84       250\n",
            "  soc.religion.christian       0.74      0.82      0.78       250\n",
            "      talk.politics.guns       0.72      0.82      0.77       250\n",
            "   talk.politics.mideast       0.90      0.84      0.87       250\n",
            "      talk.politics.misc       0.64      0.63      0.64       250\n",
            "      talk.religion.misc       0.52      0.36      0.42       250\n",
            "\n",
            "                accuracy                           0.77      5000\n",
            "               macro avg       0.77      0.77      0.76      5000\n",
            "            weighted avg       0.77      0.77      0.76      5000\n",
            "\n",
            "------------------------------------------------------------------------------------------------------------------------------------\n",
            "Confusion Matrix:\n",
            " [[186   0   0   0   0   0   0   2   1   0   0   2   2   1   4  14   2   7\n",
            "    3  26]\n",
            " [  3 160  28  13   8  17   3   1   2   0   1   1   3   2   3   0   1   0\n",
            "    2   2]\n",
            " [  1  14 174  19   7  20   5   0   1   2   0   2   3   0   1   1   0   0\n",
            "    0   0]\n",
            " [  3   8  20 166  27   3   8   2   2   0   0   1   9   0   1   0   0   0\n",
            "    0   0]\n",
            " [  0   4   8  17 196   0   5   2   1   0   0   2   9   2   3   0   0   0\n",
            "    1   0]\n",
            " [  4  28  15   3   1 188   4   1   1   0   0   1   1   0   3   0   0   0\n",
            "    0   0]\n",
            " [  4   4   4  12  11   1 185   9   4   2   1   4   5   0   2   1   1   0\n",
            "    0   0]\n",
            " [  1   0   0   2   0   2   4 221   8   0   0   1   4   2   0   0   2   0\n",
            "    3   0]\n",
            " [  2   1   0   1   3   0   2  11 222   2   1   0   1   1   0   0   2   0\n",
            "    1   0]\n",
            " [  0   2   0   0   1   1   3   2   3 228   8   0   1   0   0   1   0   0\n",
            "    0   0]\n",
            " [  0   0   2   0   0   0   1   0   2   8 232   3   0   0   0   1   0   0\n",
            "    1   0]\n",
            " [  2   4   1   0   3   1   1   1   0   1   0 220   4   0   2   0   3   0\n",
            "    5   2]\n",
            " [  1  14   1  16  15   4   7   8   0   1   0   3 169   3   3   1   0   1\n",
            "    3   0]\n",
            " [  5   3   1   1   0   0   1   1   9   2   1   1   4 206   3   5   2   1\n",
            "    4   0]\n",
            " [  3   7   0   0   0   1   0   4   3   1   1   0   4   4 206   2   0   0\n",
            "   11   3]\n",
            " [ 12   1   1   0   1   0   1   0   2   2   2   1   0   1   1 205   2   1\n",
            "    4  13]\n",
            " [  1   0   0   0   0   1   2   1   3   1   0   4   0   0   0   0 206   0\n",
            "   21  10]\n",
            " [  4   0   0   0   0   0   2   3   2   0   0   2   0   0   0   4   4 211\n",
            "   15   3]\n",
            " [  3   0   0   1   0   0   0   1   2   2   0   2   0   3   6   1  38  10\n",
            "  157  24]\n",
            " [ 71   2   0   0   0   0   0   0   1   0   0   0   1   1   5  40  24   3\n",
            "   13  89]]\n",
            "------------------------------------------------------------------------------------------------------------------------------------\n",
            "Accuracy: 76.53999999999999 %\n"
          ]
        }
      ],
      "source": [
        "print('Classification Report:\\n', classification_report(Y_test, Y_test_preds))\n",
        "print('-'*132)\n",
        "print('Confusion Matrix:\\n', confusion_matrix(Y_test, Y_test_preds))\n",
        "print('-'*132)\n",
        "print('Accuracy:', accuracy_score(Y_test, Y_test_preds) * 100, '%')"
      ]
    },
    {
      "cell_type": "markdown",
      "id": "d8d828e1",
      "metadata": {
        "id": "d8d828e1"
      },
      "source": [
        "#### Training Metrics"
      ]
    },
    {
      "cell_type": "code",
      "execution_count": null,
      "id": "459c10aa",
      "metadata": {
        "id": "459c10aa"
      },
      "outputs": [],
      "source": [
        "Y_train_preds = classifier.predict(X_train)"
      ]
    },
    {
      "cell_type": "code",
      "execution_count": null,
      "id": "e354b276",
      "metadata": {
        "id": "e354b276",
        "outputId": "f39996f0-aa62-4987-95d6-f4f4d62437e3"
      },
      "outputs": [
        {
          "name": "stdout",
          "output_type": "stream",
          "text": [
            "Classification Report:\n",
            "                           precision    recall  f1-score   support\n",
            "\n",
            "             alt.atheism       0.69      0.86      0.77       750\n",
            "           comp.graphics       0.70      0.73      0.72       750\n",
            " comp.os.ms-windows.misc       0.79      0.81      0.80       750\n",
            "comp.sys.ibm.pc.hardware       0.77      0.79      0.78       750\n",
            "   comp.sys.mac.hardware       0.80      0.86      0.83       750\n",
            "          comp.windows.x       0.86      0.82      0.84       750\n",
            "            misc.forsale       0.84      0.84      0.84       750\n",
            "               rec.autos       0.87      0.88      0.88       750\n",
            "         rec.motorcycles       0.89      0.95      0.92       750\n",
            "      rec.sport.baseball       0.93      0.94      0.93       750\n",
            "        rec.sport.hockey       0.97      0.96      0.96       750\n",
            "               sci.crypt       0.94      0.89      0.91       750\n",
            "         sci.electronics       0.84      0.78      0.81       750\n",
            "                 sci.med       0.91      0.90      0.91       750\n",
            "               sci.space       0.94      0.87      0.90       750\n",
            "  soc.religion.christian       0.85      0.90      0.87       747\n",
            "      talk.politics.guns       0.74      0.88      0.80       750\n",
            "   talk.politics.mideast       0.92      0.86      0.89       750\n",
            "      talk.politics.misc       0.75      0.67      0.71       750\n",
            "      talk.religion.misc       0.73      0.50      0.59       750\n",
            "\n",
            "                accuracy                           0.83     14997\n",
            "               macro avg       0.84      0.83      0.83     14997\n",
            "            weighted avg       0.84      0.83      0.83     14997\n",
            "\n",
            "------------------------------------------------------------------------------------------------------------------------------------\n",
            "Confusion Matrix:\n",
            " [[647   2   1   0   0   1   0   2   5   1   0   0   2   7   1  26   4   6\n",
            "    4  41]\n",
            " [  6 548  50  33  24  34   8   7   2   2   1   4   9  11   6   0   3   0\n",
            "    0   2]\n",
            " [  8  31 607  44   7  26   3   3   1   2   1   1   5   1   2   2   0   1\n",
            "    0   5]\n",
            " [  1  17  36 594  45   6  19   6   1   2   0   2  19   0   1   0   0   1\n",
            "    0   0]\n",
            " [  8   8  17  33 644   5  16   2   2   0   0   0   9   5   0   0   0   0\n",
            "    1   0]\n",
            " [  2  62  18   6  10 617   7   0   1   1   1   3   7   1   7   0   1   0\n",
            "    3   3]\n",
            " [  7   2  10  27  17   1 628  16   5   4   0   2  15   1   6   1   3   0\n",
            "    5   0]\n",
            " [  5   3   1   4   4   1  18 661  14   5   1   2  17   1   2   1   7   0\n",
            "    1   2]\n",
            " [  2   5   0   0   1   0   7  13 711   2   1   0   3   3   0   0   1   0\n",
            "    0   1]\n",
            " [  4   4   3   0   1   2  10   3   7 703   8   0   1   2   1   0   1   0\n",
            "    0   0]\n",
            " [  2   2   0   1   0   1   1   2   6  10 717   0   1   2   0   1   0   0\n",
            "    2   2]\n",
            " [  4  15   7   0   6   4   0   2   5   1   1 666   3   2   2   0  12   1\n",
            "   18   1]\n",
            " [  1  25   6  28  36   4  17  13   8   4   4   7 586   5   2   1   1   0\n",
            "    1   1]\n",
            " [ 12  14   1   1   5   2   2   4   7   2   2   0  10 676   1   2   4   3\n",
            "    2   0]\n",
            " [  7  26   1   0   1   5   2   5   6   4   0   2   6   7 656   4   3   1\n",
            "   10   4]\n",
            " [ 25   2   4   2   0   1   4   0   2   2   0   0   3   4   1 671   7   5\n",
            "    5   9]\n",
            " [  3   0   0   0   0   3   5   9   2   2   2   7   2   3   1   2 660   3\n",
            "   34  12]\n",
            " [ 11   6   0   1   1   1   3   1   5   3   2   4   0   3   4   7   6 648\n",
            "   39   5]\n",
            " [ 15   4   1   1   1   0   1   5   3   4   1   6   0   2   6   5 110  34\n",
            "  499  52]\n",
            " [165   2   5   1   0   0   1   4   7   1   1   1   1   6   1  67  70   4\n",
            "   40 373]]\n",
            "------------------------------------------------------------------------------------------------------------------------------------\n",
            "Accuracy: 83.43001933720078 %\n"
          ]
        }
      ],
      "source": [
        "print('Classification Report:\\n', classification_report(Y_train, Y_train_preds))\n",
        "print('-'*132)\n",
        "print('Confusion Matrix:\\n', confusion_matrix(Y_train, Y_train_preds))\n",
        "print('-'*132)\n",
        "print('Accuracy:', accuracy_score(Y_train, Y_train_preds) * 100, '%')"
      ]
    },
    {
      "cell_type": "markdown",
      "id": "457dd5bf",
      "metadata": {
        "id": "457dd5bf"
      },
      "source": [
        "# Text Classification using Multinomial Naive Bayes from scratch"
      ]
    },
    {
      "cell_type": "code",
      "execution_count": null,
      "id": "771c4b54",
      "metadata": {
        "id": "771c4b54"
      },
      "outputs": [],
      "source": [
        "#The Multinomial Naive Bayes class.\n",
        "class MultinomialNaiveBayes:\n",
        "    '''This class implements the Multinomial Naive Bayes classifier.'''\n",
        "\n",
        "    #Constructor which initializes the dictionary.\n",
        "    def __init__(self):\n",
        "        self.X_train_dictionary = {}\n",
        "\n",
        "    #The fit function analogous to the one in Scikit Learn. This function creates the dictionary\n",
        "    #which contains the frequency of every word in the vocabulary per class along with class length\n",
        "    #per class and total length\n",
        "    def fit(self, X_train, Y_train):\n",
        "        self.classes = np.unique(Y_train)\n",
        "        self.X_train_dictionary['total_length'] = len(X_train)\n",
        "        for cls in self.classes:\n",
        "            current_class_X_train = X_train[Y_train == cls]\n",
        "            self.X_train_dictionary[cls] = {}\n",
        "            self.X_train_dictionary[cls]['total_words'] = 0\n",
        "            self.X_train_dictionary[cls]['class_length'] = len(current_class_X_train)\n",
        "            for i in range(X_train.shape[1]):\n",
        "                word_frequency = current_class_X_train[:, i].sum()\n",
        "                self.X_train_dictionary[cls][i] = word_frequency\n",
        "                self.X_train_dictionary[cls]['total_words'] += word_frequency\n",
        "        \n",
        "    #this function calculates the probability of a single test data point belonging to a single class\n",
        "    def probability(self, x, current_class):\n",
        "        result = np.log(self.X_train_dictionary[current_class]['class_length']) - np.log(self.X_train_dictionary['total_length'])\n",
        "        for i in range(len(x)):\n",
        "            if(x[i] == 0):\n",
        "                continue\n",
        "            numerator = self.X_train_dictionary[current_class][i] + 1\n",
        "            denominator = self.X_train_dictionary[current_class]['total_words'] + len(x)\n",
        "            result += (x[i]*(np.log(numerator) - np.log(denominator)))\n",
        "\n",
        "        return result\n",
        "    \n",
        "    #this is a helper function used to predict the class for a single test data point \n",
        "    def predict_single_point(self, x):\n",
        "        best_probability = -100000000\n",
        "        best_class = -1\n",
        "\n",
        "        for current_class in self.classes:\n",
        "            current_class_probability = self.probability(x, current_class)\n",
        "            if(current_class_probability > best_probability):\n",
        "                best_probability = current_class_probability\n",
        "                best_class = current_class \n",
        "    \n",
        "        return best_class\n",
        "    \n",
        "    #this function is analogous to the predict function in scikit learn which takes in X_test and returns\n",
        "    #the predictions for the same\n",
        "    def predict(self, X_test):\n",
        "        Y_preds = []\n",
        "        for x in X_test:\n",
        "            Y_preds.append(self.predict_single_point(x))\n",
        "        return Y_preds"
      ]
    },
    {
      "cell_type": "markdown",
      "id": "d8695678",
      "metadata": {
        "id": "d8695678"
      },
      "source": [
        "#### Testing Metrics"
      ]
    },
    {
      "cell_type": "code",
      "execution_count": null,
      "id": "1efadff4",
      "metadata": {
        "id": "1efadff4"
      },
      "outputs": [],
      "source": [
        "classifier = MultinomialNaiveBayes()\n",
        "classifier.fit(X_train, Y_train)"
      ]
    },
    {
      "cell_type": "code",
      "execution_count": null,
      "id": "8be9cc45",
      "metadata": {
        "id": "8be9cc45"
      },
      "outputs": [],
      "source": [
        "Y_preds = classifier.predict(X_test)"
      ]
    },
    {
      "cell_type": "code",
      "execution_count": null,
      "id": "cc7a825f",
      "metadata": {
        "id": "cc7a825f",
        "outputId": "cc8cac1a-795f-4eaf-db35-8208afe18bdf"
      },
      "outputs": [
        {
          "name": "stdout",
          "output_type": "stream",
          "text": [
            "Classification Report:\n",
            "                           precision    recall  f1-score   support\n",
            "\n",
            "             alt.atheism       0.61      0.74      0.67       250\n",
            "           comp.graphics       0.63      0.64      0.64       250\n",
            " comp.os.ms-windows.misc       0.68      0.70      0.69       250\n",
            "comp.sys.ibm.pc.hardware       0.66      0.66      0.66       250\n",
            "   comp.sys.mac.hardware       0.72      0.78      0.75       250\n",
            "          comp.windows.x       0.79      0.75      0.77       250\n",
            "            misc.forsale       0.79      0.74      0.76       250\n",
            "               rec.autos       0.82      0.88      0.85       250\n",
            "         rec.motorcycles       0.83      0.89      0.86       250\n",
            "      rec.sport.baseball       0.90      0.91      0.91       250\n",
            "        rec.sport.hockey       0.94      0.93      0.93       250\n",
            "               sci.crypt       0.88      0.88      0.88       250\n",
            "         sci.electronics       0.77      0.68      0.72       250\n",
            "                 sci.med       0.91      0.82      0.87       250\n",
            "               sci.space       0.85      0.82      0.84       250\n",
            "  soc.religion.christian       0.74      0.82      0.78       250\n",
            "      talk.politics.guns       0.72      0.82      0.77       250\n",
            "   talk.politics.mideast       0.90      0.84      0.87       250\n",
            "      talk.politics.misc       0.64      0.63      0.64       250\n",
            "      talk.religion.misc       0.52      0.36      0.42       250\n",
            "\n",
            "                accuracy                           0.77      5000\n",
            "               macro avg       0.77      0.77      0.76      5000\n",
            "            weighted avg       0.77      0.77      0.76      5000\n",
            "\n",
            "------------------------------------------------------------------------------------------------------------------------------------\n",
            "Confusion Matrix:\n",
            " [[186   0   0   0   0   0   0   2   1   0   0   2   2   1   4  14   2   7\n",
            "    3  26]\n",
            " [  3 160  28  13   8  17   3   1   2   0   1   1   3   2   3   0   1   0\n",
            "    2   2]\n",
            " [  1  14 174  19   7  20   5   0   1   2   0   2   3   0   1   1   0   0\n",
            "    0   0]\n",
            " [  3   8  20 166  27   3   8   2   2   0   0   1   9   0   1   0   0   0\n",
            "    0   0]\n",
            " [  0   4   8  17 196   0   5   2   1   0   0   2   9   2   3   0   0   0\n",
            "    1   0]\n",
            " [  4  28  15   3   1 188   4   1   1   0   0   1   1   0   3   0   0   0\n",
            "    0   0]\n",
            " [  4   4   4  12  11   1 185   9   4   2   1   4   5   0   2   1   1   0\n",
            "    0   0]\n",
            " [  1   0   0   2   0   2   4 221   8   0   0   1   4   2   0   0   2   0\n",
            "    3   0]\n",
            " [  2   1   0   1   3   0   2  11 222   2   1   0   1   1   0   0   2   0\n",
            "    1   0]\n",
            " [  0   2   0   0   1   1   3   2   3 228   8   0   1   0   0   1   0   0\n",
            "    0   0]\n",
            " [  0   0   2   0   0   0   1   0   2   8 232   3   0   0   0   1   0   0\n",
            "    1   0]\n",
            " [  2   4   1   0   3   1   1   1   0   1   0 220   4   0   2   0   3   0\n",
            "    5   2]\n",
            " [  1  14   1  16  15   4   7   8   0   1   0   3 169   3   3   1   0   1\n",
            "    3   0]\n",
            " [  5   3   1   1   0   0   1   1   9   2   1   1   4 206   3   5   2   1\n",
            "    4   0]\n",
            " [  3   7   0   0   0   1   0   4   3   1   1   0   4   4 206   2   0   0\n",
            "   11   3]\n",
            " [ 12   1   1   0   1   0   1   0   2   2   2   1   0   1   1 205   2   1\n",
            "    4  13]\n",
            " [  1   0   0   0   0   1   2   1   3   1   0   4   0   0   0   0 206   0\n",
            "   21  10]\n",
            " [  4   0   0   0   0   0   2   3   2   0   0   2   0   0   0   4   4 211\n",
            "   15   3]\n",
            " [  3   0   0   1   0   0   0   1   2   2   0   2   0   3   6   1  38  10\n",
            "  157  24]\n",
            " [ 71   2   0   0   0   0   0   0   1   0   0   0   1   1   5  40  24   3\n",
            "   13  89]]\n",
            "------------------------------------------------------------------------------------------------------------------------------------\n",
            "Accuracy: 76.53999999999999 %\n"
          ]
        }
      ],
      "source": [
        "print('Classification Report:\\n', classification_report(Y_test, Y_preds))\n",
        "print('-'*132)\n",
        "print('Confusion Matrix:\\n', confusion_matrix(Y_test, Y_preds))\n",
        "print('-'*132)\n",
        "print('Accuracy:', accuracy_score(Y_test, Y_preds) * 100, '%')"
      ]
    }
  ],
  "metadata": {
    "kernelspec": {
      "display_name": "Python 3",
      "language": "python",
      "name": "python3"
    },
    "language_info": {
      "codemirror_mode": {
        "name": "ipython",
        "version": 3
      },
      "file_extension": ".py",
      "mimetype": "text/x-python",
      "name": "python",
      "nbconvert_exporter": "python",
      "pygments_lexer": "ipython3",
      "version": "3.8.8"
    },
    "colab": {
      "name": "Text Classification.ipynb",
      "provenance": []
    }
  },
  "nbformat": 4,
  "nbformat_minor": 5
}